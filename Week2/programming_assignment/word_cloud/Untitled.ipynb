{
 "cells": [
  {
   "cell_type": "code",
   "execution_count": 1,
   "metadata": {
    "collapsed": true
   },
   "outputs": [],
   "source": [
    "input_file = open(\"98-0.txt\")\n",
    "input_file_contents = input_file.read()\n",
    "input_file_contents = input_file_contents.replace('\"',\" \").replace(\".\",\" \").replace(\":\",\" \").replace(\"!\",\" \").replace(\"_\",\" \").replace(\",\",\" \").replace(\"-\",\" \").replace(\"?\",\" \").replace(\";\",\" \").replace(\"(\",\" \").replace(\")\",\" \")\n",
    "word_list = input_file_contents.lower().split()"
   ]
  },
  {
   "cell_type": "code",
   "execution_count": 10,
   "metadata": {},
   "outputs": [],
   "source": [
    "word_count = {}\n",
    "for word in word_list:\n",
    "    if word in word_count:\n",
    "        count = word_count[word]\n",
    "        word_count[word] = count + 1\n",
    "    else:\n",
    "        word_count[word] = 1\n"
   ]
  },
  {
   "cell_type": "code",
   "execution_count": 11,
   "metadata": {},
   "outputs": [
    {
     "name": "stdout",
     "output_type": "stream",
     "text": [
      "Size of word_count before removing stop_words 10666\n",
      "Size of word_count after removing stop_words 10533\n"
     ]
    }
   ],
   "source": [
    "print(\"Size of word_count before removing stop_words\", len(word_count))\n",
    "\n",
    "stop_words_file = open(\"stopwords\")\n",
    "stop_words_list = stop_words_file.read().lower().split()\n",
    "for stop_word in stop_words_list:\n",
    "    if stop_word in word_count:\n",
    "        del word_count[stop_word]\n",
    "        \n",
    "print(\"Size of word_count after removing stop_words\", len(word_count))"
   ]
  },
  {
   "cell_type": "code",
   "execution_count": 18,
   "metadata": {},
   "outputs": [],
   "source": [
    "from operator import itemgetter\n",
    "l = sorted(word_count.items(), key=itemgetter(1), reverse=True)"
   ]
  },
  {
   "cell_type": "code",
   "execution_count": 19,
   "metadata": {},
   "outputs": [
    {
     "name": "stdout",
     "output_type": "stream",
     "text": [
      "('”', 2745)\n",
      "('said', 661)\n",
      "('mr', 608)\n",
      "('one', 431)\n",
      "('“i', 406)\n",
      "('lorry', 339)\n",
      "('upon', 289)\n",
      "('man', 283)\n",
      "('will', 283)\n",
      "('defarge', 281)\n"
     ]
    }
   ],
   "source": [
    "for i in range(10):\n",
    "    print(l[i])"
   ]
  }
 ],
 "metadata": {
  "kernelspec": {
   "display_name": "Python 3",
   "language": "python",
   "name": "python3"
  },
  "language_info": {
   "codemirror_mode": {
    "name": "ipython",
    "version": 3
   },
   "file_extension": ".py",
   "mimetype": "text/x-python",
   "name": "python",
   "nbconvert_exporter": "python",
   "pygments_lexer": "ipython3",
   "version": "3.6.1"
  }
 },
 "nbformat": 4,
 "nbformat_minor": 2
}
