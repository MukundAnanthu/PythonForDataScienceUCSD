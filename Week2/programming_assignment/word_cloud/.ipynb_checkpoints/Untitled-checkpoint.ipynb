{
 "cells": [
  {
   "cell_type": "code",
   "execution_count": 1,
   "metadata": {
    "collapsed": true
   },
   "outputs": [],
   "source": [
    "input_file = open(\"98-0.txt\")\n",
    "input_file_contents = input_file.read()\n",
    "input_file_contents = input_file_contents.replace('\"',\" \").replace(\".\",\" \").replace(\":\",\" \").replace(\"!\",\" \").replace(\"_\",\" \").replace(\",\",\" \").replace(\"-\",\" \").replace(\"?\",\" \").replace(\";\",\" \").replace(\"(\",\" \").replace(\")\",\" \")\n",
    "word_list = input_file_contents.lower().split()"
   ]
  },
  {
   "cell_type": "code",
   "execution_count": 3,
   "metadata": {},
   "outputs": [],
   "source": [
    "word_count = {}\n",
    "for word in word_list:\n",
    "    if word in word_count:\n",
    "        count = word_count[word]\n",
    "        word_count[word] = count + 1\n",
    "    else:\n",
    "        word_count[word] = 1\n"
   ]
  },
  {
   "cell_type": "code",
   "execution_count": 9,
   "metadata": {},
   "outputs": [
    {
     "name": "stdout",
     "output_type": "stream",
     "text": [
      "a\n",
      "about\n",
      "above\n",
      "after\n",
      "again\n",
      "against\n",
      "all\n",
      "am\n",
      "an\n",
      "and\n"
     ]
    },
    {
     "data": {
      "text/plain": [
       "186"
      ]
     },
     "execution_count": 9,
     "metadata": {},
     "output_type": "execute_result"
    }
   ],
   "source": [
    "stop_words_file = open(\"stopwords\")\n",
    "stop_words_list = stop_words_file.read().lower().split()\n"
   ]
  }
 ],
 "metadata": {
  "kernelspec": {
   "display_name": "Python 3",
   "language": "python",
   "name": "python3"
  },
  "language_info": {
   "codemirror_mode": {
    "name": "ipython",
    "version": 3
   },
   "file_extension": ".py",
   "mimetype": "text/x-python",
   "name": "python",
   "nbconvert_exporter": "python",
   "pygments_lexer": "ipython3",
   "version": "3.6.1"
  }
 },
 "nbformat": 4,
 "nbformat_minor": 2
}
